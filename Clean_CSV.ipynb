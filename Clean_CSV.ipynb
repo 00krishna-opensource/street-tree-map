{
 "cells": [
  {
   "cell_type": "code",
   "execution_count": 214,
   "metadata": {},
   "outputs": [],
   "source": [
    "import pandas as pd\n",
    "import numpy as np"
   ]
  },
  {
   "cell_type": "code",
   "execution_count": 215,
   "metadata": {},
   "outputs": [],
   "source": [
    "df = pd.read_csv('Trees.csv')"
   ]
  },
  {
   "cell_type": "code",
   "execution_count": 216,
   "metadata": {},
   "outputs": [
    {
     "data": {
      "text/html": [
       "<div>\n",
       "<style scoped>\n",
       "    .dataframe tbody tr th:only-of-type {\n",
       "        vertical-align: middle;\n",
       "    }\n",
       "\n",
       "    .dataframe tbody tr th {\n",
       "        vertical-align: top;\n",
       "    }\n",
       "\n",
       "    .dataframe thead th {\n",
       "        text-align: right;\n",
       "    }\n",
       "</style>\n",
       "<table border=\"1\" class=\"dataframe\">\n",
       "  <thead>\n",
       "    <tr style=\"text-align: right;\">\n",
       "      <th></th>\n",
       "      <th>common name</th>\n",
       "      <th>botanical name</th>\n",
       "      <th>replacement species</th>\n",
       "      <th>street number</th>\n",
       "      <th>street name</th>\n",
       "      <th>side</th>\n",
       "      <th>diameter in inches</th>\n",
       "      <th>height in feet</th>\n",
       "      <th>date last pruned</th>\n",
       "      <th>target year (fiscal year)</th>\n",
       "      <th>latitude</th>\n",
       "      <th>longitude</th>\n",
       "      <th>location</th>\n",
       "    </tr>\n",
       "  </thead>\n",
       "  <tbody>\n",
       "    <tr>\n",
       "      <th>0</th>\n",
       "      <td>MEXICAN FAN PALM</td>\n",
       "      <td>Washingtonia robusta</td>\n",
       "      <td>Brahea armata, Pinus torreyana (east side only)</td>\n",
       "      <td>101</td>\n",
       "      <td>OCEAN AVE</td>\n",
       "      <td>SIDE</td>\n",
       "      <td>13-18</td>\n",
       "      <td>60+</td>\n",
       "      <td>NaN</td>\n",
       "      <td>2015</td>\n",
       "      <td>34.012933</td>\n",
       "      <td>-118.496549</td>\n",
       "      <td>(34.0129331655, -118.496549373)</td>\n",
       "    </tr>\n",
       "    <tr>\n",
       "      <th>1</th>\n",
       "      <td>NEW ZEALAND CHRISTMAS TREE</td>\n",
       "      <td>Metrosideros excelsus</td>\n",
       "      <td>Banksia integrifolia</td>\n",
       "      <td>101</td>\n",
       "      <td>STRAND ST</td>\n",
       "      <td>FRONT</td>\n",
       "      <td>07-12</td>\n",
       "      <td>15-30</td>\n",
       "      <td>NaN</td>\n",
       "      <td>2018</td>\n",
       "      <td>34.003970</td>\n",
       "      <td>-118.487973</td>\n",
       "      <td>(34.0039703471, -118.487973113)</td>\n",
       "    </tr>\n",
       "    <tr>\n",
       "      <th>2</th>\n",
       "      <td>MEXICAN FAN PALM</td>\n",
       "      <td>Washingtonia robusta</td>\n",
       "      <td>Metrosideros excelsus</td>\n",
       "      <td>101</td>\n",
       "      <td>OCEAN AVE</td>\n",
       "      <td>SIDE</td>\n",
       "      <td>13-18</td>\n",
       "      <td>60+</td>\n",
       "      <td>NaN</td>\n",
       "      <td>2014</td>\n",
       "      <td>34.003947</td>\n",
       "      <td>-118.488199</td>\n",
       "      <td>(34.003946732, -118.488198906)</td>\n",
       "    </tr>\n",
       "    <tr>\n",
       "      <th>3</th>\n",
       "      <td>NEW ZEALAND CHRISTMAS TREE</td>\n",
       "      <td>Metrosideros excelsus</td>\n",
       "      <td>Banksia integrifolia</td>\n",
       "      <td>103</td>\n",
       "      <td>STRAND ST</td>\n",
       "      <td>FRONT</td>\n",
       "      <td>13-18</td>\n",
       "      <td>15-30</td>\n",
       "      <td>NaN</td>\n",
       "      <td>2018</td>\n",
       "      <td>34.004081</td>\n",
       "      <td>-118.487817</td>\n",
       "      <td>(34.0040807285, -118.487816913)</td>\n",
       "    </tr>\n",
       "    <tr>\n",
       "      <th>4</th>\n",
       "      <td>SOUTHERN MAGNOLIA</td>\n",
       "      <td>Magnolia grandiflora</td>\n",
       "      <td>Magnolia grandiflora</td>\n",
       "      <td>110</td>\n",
       "      <td>SAN VICENTE BLVD</td>\n",
       "      <td>SIDE</td>\n",
       "      <td>0-6</td>\n",
       "      <td>01-15</td>\n",
       "      <td>NaN</td>\n",
       "      <td>2018</td>\n",
       "      <td>34.034385</td>\n",
       "      <td>-118.506851</td>\n",
       "      <td>(34.0343845019, -118.506851295)</td>\n",
       "    </tr>\n",
       "  </tbody>\n",
       "</table>\n",
       "</div>"
      ],
      "text/plain": [
       "                  common name         botanical name  \\\n",
       "0            MEXICAN FAN PALM   Washingtonia robusta   \n",
       "1  NEW ZEALAND CHRISTMAS TREE  Metrosideros excelsus   \n",
       "2            MEXICAN FAN PALM   Washingtonia robusta   \n",
       "3  NEW ZEALAND CHRISTMAS TREE  Metrosideros excelsus   \n",
       "4           SOUTHERN MAGNOLIA   Magnolia grandiflora   \n",
       "\n",
       "                               replacement species  street number  \\\n",
       "0  Brahea armata, Pinus torreyana (east side only)            101   \n",
       "1                             Banksia integrifolia            101   \n",
       "2                            Metrosideros excelsus            101   \n",
       "3                             Banksia integrifolia            103   \n",
       "4                             Magnolia grandiflora            110   \n",
       "\n",
       "        street name   side diameter in inches height in feet date last pruned  \\\n",
       "0         OCEAN AVE   SIDE              13-18            60+              NaN   \n",
       "1         STRAND ST  FRONT              07-12          15-30              NaN   \n",
       "2         OCEAN AVE   SIDE              13-18            60+              NaN   \n",
       "3         STRAND ST  FRONT              13-18          15-30              NaN   \n",
       "4  SAN VICENTE BLVD   SIDE                0-6          01-15              NaN   \n",
       "\n",
       "   target year (fiscal year)   latitude   longitude  \\\n",
       "0                       2015  34.012933 -118.496549   \n",
       "1                       2018  34.003970 -118.487973   \n",
       "2                       2014  34.003947 -118.488199   \n",
       "3                       2018  34.004081 -118.487817   \n",
       "4                       2018  34.034385 -118.506851   \n",
       "\n",
       "                          location  \n",
       "0  (34.0129331655, -118.496549373)  \n",
       "1  (34.0039703471, -118.487973113)  \n",
       "2   (34.003946732, -118.488198906)  \n",
       "3  (34.0040807285, -118.487816913)  \n",
       "4  (34.0343845019, -118.506851295)  "
      ]
     },
     "execution_count": 216,
     "metadata": {},
     "output_type": "execute_result"
    }
   ],
   "source": [
    "df.head()"
   ]
  },
  {
   "cell_type": "code",
   "execution_count": 217,
   "metadata": {},
   "outputs": [
    {
     "name": "stdout",
     "output_type": "stream",
     "text": [
      "<class 'pandas.core.frame.DataFrame'>\n",
      "RangeIndex: 35235 entries, 0 to 35234\n",
      "Data columns (total 13 columns):\n",
      "common name                  35235 non-null object\n",
      "botanical name               35235 non-null object\n",
      "replacement species          28324 non-null object\n",
      "street number                35235 non-null int64\n",
      "street name                  29197 non-null object\n",
      "side                         35235 non-null object\n",
      "diameter in inches           35235 non-null object\n",
      "height in feet               35235 non-null object\n",
      "date last pruned             97 non-null object\n",
      "target year (fiscal year)    35235 non-null int64\n",
      "latitude                     35235 non-null float64\n",
      "longitude                    35235 non-null float64\n",
      "location                     35235 non-null object\n",
      "dtypes: float64(2), int64(2), object(9)\n",
      "memory usage: 3.5+ MB\n"
     ]
    }
   ],
   "source": [
    "df.info()"
   ]
  },
  {
   "cell_type": "code",
   "execution_count": 218,
   "metadata": {},
   "outputs": [
    {
     "data": {
      "text/plain": [
       "(35235, 13)"
      ]
     },
     "execution_count": 218,
     "metadata": {},
     "output_type": "execute_result"
    }
   ],
   "source": [
    "df.shape"
   ]
  },
  {
   "cell_type": "code",
   "execution_count": 219,
   "metadata": {},
   "outputs": [],
   "source": [
    "# format column headers to title format\n",
    "\n",
    "col_names = list(df.columns)\n",
    "col_titles = list()\n",
    "\n",
    "for name in col_names:\n",
    "    col_titles.append(name.title())\n",
    "    \n",
    "df.columns = col_titles"
   ]
  },
  {
   "cell_type": "code",
   "execution_count": 220,
   "metadata": {},
   "outputs": [
    {
     "data": {
      "text/html": [
       "<div>\n",
       "<style scoped>\n",
       "    .dataframe tbody tr th:only-of-type {\n",
       "        vertical-align: middle;\n",
       "    }\n",
       "\n",
       "    .dataframe tbody tr th {\n",
       "        vertical-align: top;\n",
       "    }\n",
       "\n",
       "    .dataframe thead th {\n",
       "        text-align: right;\n",
       "    }\n",
       "</style>\n",
       "<table border=\"1\" class=\"dataframe\">\n",
       "  <thead>\n",
       "    <tr style=\"text-align: right;\">\n",
       "      <th></th>\n",
       "      <th>Common Name</th>\n",
       "      <th>Botanical Name</th>\n",
       "      <th>Replacement Species</th>\n",
       "      <th>Street Number</th>\n",
       "      <th>Street Name</th>\n",
       "      <th>Side</th>\n",
       "      <th>Diameter In Inches</th>\n",
       "      <th>Height In Feet</th>\n",
       "      <th>Date Last Pruned</th>\n",
       "      <th>Target Year (Fiscal Year)</th>\n",
       "      <th>Latitude</th>\n",
       "      <th>Longitude</th>\n",
       "      <th>Location</th>\n",
       "    </tr>\n",
       "  </thead>\n",
       "  <tbody>\n",
       "    <tr>\n",
       "      <th>0</th>\n",
       "      <td>MEXICAN FAN PALM</td>\n",
       "      <td>Washingtonia robusta</td>\n",
       "      <td>Brahea armata, Pinus torreyana (east side only)</td>\n",
       "      <td>101</td>\n",
       "      <td>OCEAN AVE</td>\n",
       "      <td>SIDE</td>\n",
       "      <td>13-18</td>\n",
       "      <td>60+</td>\n",
       "      <td>NaN</td>\n",
       "      <td>2015</td>\n",
       "      <td>34.012933</td>\n",
       "      <td>-118.496549</td>\n",
       "      <td>(34.0129331655, -118.496549373)</td>\n",
       "    </tr>\n",
       "    <tr>\n",
       "      <th>1</th>\n",
       "      <td>NEW ZEALAND CHRISTMAS TREE</td>\n",
       "      <td>Metrosideros excelsus</td>\n",
       "      <td>Banksia integrifolia</td>\n",
       "      <td>101</td>\n",
       "      <td>STRAND ST</td>\n",
       "      <td>FRONT</td>\n",
       "      <td>07-12</td>\n",
       "      <td>15-30</td>\n",
       "      <td>NaN</td>\n",
       "      <td>2018</td>\n",
       "      <td>34.003970</td>\n",
       "      <td>-118.487973</td>\n",
       "      <td>(34.0039703471, -118.487973113)</td>\n",
       "    </tr>\n",
       "    <tr>\n",
       "      <th>2</th>\n",
       "      <td>MEXICAN FAN PALM</td>\n",
       "      <td>Washingtonia robusta</td>\n",
       "      <td>Metrosideros excelsus</td>\n",
       "      <td>101</td>\n",
       "      <td>OCEAN AVE</td>\n",
       "      <td>SIDE</td>\n",
       "      <td>13-18</td>\n",
       "      <td>60+</td>\n",
       "      <td>NaN</td>\n",
       "      <td>2014</td>\n",
       "      <td>34.003947</td>\n",
       "      <td>-118.488199</td>\n",
       "      <td>(34.003946732, -118.488198906)</td>\n",
       "    </tr>\n",
       "    <tr>\n",
       "      <th>3</th>\n",
       "      <td>NEW ZEALAND CHRISTMAS TREE</td>\n",
       "      <td>Metrosideros excelsus</td>\n",
       "      <td>Banksia integrifolia</td>\n",
       "      <td>103</td>\n",
       "      <td>STRAND ST</td>\n",
       "      <td>FRONT</td>\n",
       "      <td>13-18</td>\n",
       "      <td>15-30</td>\n",
       "      <td>NaN</td>\n",
       "      <td>2018</td>\n",
       "      <td>34.004081</td>\n",
       "      <td>-118.487817</td>\n",
       "      <td>(34.0040807285, -118.487816913)</td>\n",
       "    </tr>\n",
       "    <tr>\n",
       "      <th>4</th>\n",
       "      <td>SOUTHERN MAGNOLIA</td>\n",
       "      <td>Magnolia grandiflora</td>\n",
       "      <td>Magnolia grandiflora</td>\n",
       "      <td>110</td>\n",
       "      <td>SAN VICENTE BLVD</td>\n",
       "      <td>SIDE</td>\n",
       "      <td>0-6</td>\n",
       "      <td>01-15</td>\n",
       "      <td>NaN</td>\n",
       "      <td>2018</td>\n",
       "      <td>34.034385</td>\n",
       "      <td>-118.506851</td>\n",
       "      <td>(34.0343845019, -118.506851295)</td>\n",
       "    </tr>\n",
       "  </tbody>\n",
       "</table>\n",
       "</div>"
      ],
      "text/plain": [
       "                  Common Name         Botanical Name  \\\n",
       "0            MEXICAN FAN PALM   Washingtonia robusta   \n",
       "1  NEW ZEALAND CHRISTMAS TREE  Metrosideros excelsus   \n",
       "2            MEXICAN FAN PALM   Washingtonia robusta   \n",
       "3  NEW ZEALAND CHRISTMAS TREE  Metrosideros excelsus   \n",
       "4           SOUTHERN MAGNOLIA   Magnolia grandiflora   \n",
       "\n",
       "                               Replacement Species  Street Number  \\\n",
       "0  Brahea armata, Pinus torreyana (east side only)            101   \n",
       "1                             Banksia integrifolia            101   \n",
       "2                            Metrosideros excelsus            101   \n",
       "3                             Banksia integrifolia            103   \n",
       "4                             Magnolia grandiflora            110   \n",
       "\n",
       "        Street Name   Side Diameter In Inches Height In Feet Date Last Pruned  \\\n",
       "0         OCEAN AVE   SIDE              13-18            60+              NaN   \n",
       "1         STRAND ST  FRONT              07-12          15-30              NaN   \n",
       "2         OCEAN AVE   SIDE              13-18            60+              NaN   \n",
       "3         STRAND ST  FRONT              13-18          15-30              NaN   \n",
       "4  SAN VICENTE BLVD   SIDE                0-6          01-15              NaN   \n",
       "\n",
       "   Target Year (Fiscal Year)   Latitude   Longitude  \\\n",
       "0                       2015  34.012933 -118.496549   \n",
       "1                       2018  34.003970 -118.487973   \n",
       "2                       2014  34.003947 -118.488199   \n",
       "3                       2018  34.004081 -118.487817   \n",
       "4                       2018  34.034385 -118.506851   \n",
       "\n",
       "                          Location  \n",
       "0  (34.0129331655, -118.496549373)  \n",
       "1  (34.0039703471, -118.487973113)  \n",
       "2   (34.003946732, -118.488198906)  \n",
       "3  (34.0040807285, -118.487816913)  \n",
       "4  (34.0343845019, -118.506851295)  "
      ]
     },
     "execution_count": 220,
     "metadata": {},
     "output_type": "execute_result"
    }
   ],
   "source": [
    "df.head()"
   ]
  },
  {
   "cell_type": "markdown",
   "metadata": {},
   "source": [
    "# General Formatting"
   ]
  },
  {
   "cell_type": "code",
   "execution_count": 221,
   "metadata": {},
   "outputs": [],
   "source": [
    "def clean_strings(string):\n",
    "    string = str(string)\n",
    "    string = string.title()\n",
    "    return string"
   ]
  },
  {
   "cell_type": "code",
   "execution_count": 222,
   "metadata": {},
   "outputs": [],
   "source": [
    "df['Common Name'] = df['Common Name'].apply(clean_strings)\n",
    "#df['Botanical Name'] = df['Botanical Name'].apply(clean_strings)\n",
    "df['Replacement Species'] = df['Replacement Species'].apply(clean_strings)\n",
    "df['Street Name'] = df['Street Name'].apply(clean_strings)\n",
    "df['Side'] = df['Side'].apply(clean_strings)"
   ]
  },
  {
   "cell_type": "code",
   "execution_count": 223,
   "metadata": {},
   "outputs": [
    {
     "data": {
      "text/html": [
       "<div>\n",
       "<style scoped>\n",
       "    .dataframe tbody tr th:only-of-type {\n",
       "        vertical-align: middle;\n",
       "    }\n",
       "\n",
       "    .dataframe tbody tr th {\n",
       "        vertical-align: top;\n",
       "    }\n",
       "\n",
       "    .dataframe thead th {\n",
       "        text-align: right;\n",
       "    }\n",
       "</style>\n",
       "<table border=\"1\" class=\"dataframe\">\n",
       "  <thead>\n",
       "    <tr style=\"text-align: right;\">\n",
       "      <th></th>\n",
       "      <th>Common Name</th>\n",
       "      <th>Botanical Name</th>\n",
       "      <th>Replacement Species</th>\n",
       "      <th>Street Number</th>\n",
       "      <th>Street Name</th>\n",
       "      <th>Side</th>\n",
       "      <th>Diameter In Inches</th>\n",
       "      <th>Height In Feet</th>\n",
       "      <th>Date Last Pruned</th>\n",
       "      <th>Target Year (Fiscal Year)</th>\n",
       "      <th>Latitude</th>\n",
       "      <th>Longitude</th>\n",
       "      <th>Location</th>\n",
       "    </tr>\n",
       "  </thead>\n",
       "  <tbody>\n",
       "    <tr>\n",
       "      <th>0</th>\n",
       "      <td>Mexican Fan Palm</td>\n",
       "      <td>Washingtonia robusta</td>\n",
       "      <td>Brahea Armata, Pinus Torreyana (East Side Only)</td>\n",
       "      <td>101</td>\n",
       "      <td>Ocean Ave</td>\n",
       "      <td>Side</td>\n",
       "      <td>13-18</td>\n",
       "      <td>60+</td>\n",
       "      <td>NaN</td>\n",
       "      <td>2015</td>\n",
       "      <td>34.012933</td>\n",
       "      <td>-118.496549</td>\n",
       "      <td>(34.0129331655, -118.496549373)</td>\n",
       "    </tr>\n",
       "    <tr>\n",
       "      <th>1</th>\n",
       "      <td>New Zealand Christmas Tree</td>\n",
       "      <td>Metrosideros excelsus</td>\n",
       "      <td>Banksia Integrifolia</td>\n",
       "      <td>101</td>\n",
       "      <td>Strand St</td>\n",
       "      <td>Front</td>\n",
       "      <td>07-12</td>\n",
       "      <td>15-30</td>\n",
       "      <td>NaN</td>\n",
       "      <td>2018</td>\n",
       "      <td>34.003970</td>\n",
       "      <td>-118.487973</td>\n",
       "      <td>(34.0039703471, -118.487973113)</td>\n",
       "    </tr>\n",
       "    <tr>\n",
       "      <th>2</th>\n",
       "      <td>Mexican Fan Palm</td>\n",
       "      <td>Washingtonia robusta</td>\n",
       "      <td>Metrosideros Excelsus</td>\n",
       "      <td>101</td>\n",
       "      <td>Ocean Ave</td>\n",
       "      <td>Side</td>\n",
       "      <td>13-18</td>\n",
       "      <td>60+</td>\n",
       "      <td>NaN</td>\n",
       "      <td>2014</td>\n",
       "      <td>34.003947</td>\n",
       "      <td>-118.488199</td>\n",
       "      <td>(34.003946732, -118.488198906)</td>\n",
       "    </tr>\n",
       "    <tr>\n",
       "      <th>3</th>\n",
       "      <td>New Zealand Christmas Tree</td>\n",
       "      <td>Metrosideros excelsus</td>\n",
       "      <td>Banksia Integrifolia</td>\n",
       "      <td>103</td>\n",
       "      <td>Strand St</td>\n",
       "      <td>Front</td>\n",
       "      <td>13-18</td>\n",
       "      <td>15-30</td>\n",
       "      <td>NaN</td>\n",
       "      <td>2018</td>\n",
       "      <td>34.004081</td>\n",
       "      <td>-118.487817</td>\n",
       "      <td>(34.0040807285, -118.487816913)</td>\n",
       "    </tr>\n",
       "    <tr>\n",
       "      <th>4</th>\n",
       "      <td>Southern Magnolia</td>\n",
       "      <td>Magnolia grandiflora</td>\n",
       "      <td>Magnolia Grandiflora</td>\n",
       "      <td>110</td>\n",
       "      <td>San Vicente Blvd</td>\n",
       "      <td>Side</td>\n",
       "      <td>0-6</td>\n",
       "      <td>01-15</td>\n",
       "      <td>NaN</td>\n",
       "      <td>2018</td>\n",
       "      <td>34.034385</td>\n",
       "      <td>-118.506851</td>\n",
       "      <td>(34.0343845019, -118.506851295)</td>\n",
       "    </tr>\n",
       "  </tbody>\n",
       "</table>\n",
       "</div>"
      ],
      "text/plain": [
       "                  Common Name         Botanical Name  \\\n",
       "0            Mexican Fan Palm   Washingtonia robusta   \n",
       "1  New Zealand Christmas Tree  Metrosideros excelsus   \n",
       "2            Mexican Fan Palm   Washingtonia robusta   \n",
       "3  New Zealand Christmas Tree  Metrosideros excelsus   \n",
       "4           Southern Magnolia   Magnolia grandiflora   \n",
       "\n",
       "                               Replacement Species  Street Number  \\\n",
       "0  Brahea Armata, Pinus Torreyana (East Side Only)            101   \n",
       "1                             Banksia Integrifolia            101   \n",
       "2                            Metrosideros Excelsus            101   \n",
       "3                             Banksia Integrifolia            103   \n",
       "4                             Magnolia Grandiflora            110   \n",
       "\n",
       "        Street Name   Side Diameter In Inches Height In Feet Date Last Pruned  \\\n",
       "0         Ocean Ave   Side              13-18            60+              NaN   \n",
       "1         Strand St  Front              07-12          15-30              NaN   \n",
       "2         Ocean Ave   Side              13-18            60+              NaN   \n",
       "3         Strand St  Front              13-18          15-30              NaN   \n",
       "4  San Vicente Blvd   Side                0-6          01-15              NaN   \n",
       "\n",
       "   Target Year (Fiscal Year)   Latitude   Longitude  \\\n",
       "0                       2015  34.012933 -118.496549   \n",
       "1                       2018  34.003970 -118.487973   \n",
       "2                       2014  34.003947 -118.488199   \n",
       "3                       2018  34.004081 -118.487817   \n",
       "4                       2018  34.034385 -118.506851   \n",
       "\n",
       "                          Location  \n",
       "0  (34.0129331655, -118.496549373)  \n",
       "1  (34.0039703471, -118.487973113)  \n",
       "2   (34.003946732, -118.488198906)  \n",
       "3  (34.0040807285, -118.487816913)  \n",
       "4  (34.0343845019, -118.506851295)  "
      ]
     },
     "execution_count": 223,
     "metadata": {},
     "output_type": "execute_result"
    }
   ],
   "source": [
    "df.head()"
   ]
  },
  {
   "cell_type": "markdown",
   "metadata": {},
   "source": [
    "# Common Name"
   ]
  },
  {
   "cell_type": "code",
   "execution_count": 224,
   "metadata": {},
   "outputs": [
    {
     "data": {
      "text/plain": [
       "263"
      ]
     },
     "execution_count": 224,
     "metadata": {},
     "output_type": "execute_result"
    }
   ],
   "source": [
    "# count of different common names\n",
    "len(df['Common Name'].value_counts())"
   ]
  },
  {
   "cell_type": "code",
   "execution_count": 225,
   "metadata": {},
   "outputs": [
    {
     "data": {
      "text/html": [
       "<div>\n",
       "<style scoped>\n",
       "    .dataframe tbody tr th:only-of-type {\n",
       "        vertical-align: middle;\n",
       "    }\n",
       "\n",
       "    .dataframe tbody tr th {\n",
       "        vertical-align: top;\n",
       "    }\n",
       "\n",
       "    .dataframe thead th {\n",
       "        text-align: right;\n",
       "    }\n",
       "</style>\n",
       "<table border=\"1\" class=\"dataframe\">\n",
       "  <thead>\n",
       "    <tr style=\"text-align: right;\">\n",
       "      <th></th>\n",
       "      <th>Common Name</th>\n",
       "      <th>Botanical Name</th>\n",
       "      <th>Replacement Species</th>\n",
       "      <th>Street Number</th>\n",
       "      <th>Street Name</th>\n",
       "      <th>Side</th>\n",
       "      <th>Diameter In Inches</th>\n",
       "      <th>Height In Feet</th>\n",
       "      <th>Date Last Pruned</th>\n",
       "      <th>Target Year (Fiscal Year)</th>\n",
       "      <th>Latitude</th>\n",
       "      <th>Longitude</th>\n",
       "      <th>Location</th>\n",
       "    </tr>\n",
       "  </thead>\n",
       "  <tbody>\n",
       "    <tr>\n",
       "      <th>28228</th>\n",
       "      <td>Chaste Tree</td>\n",
       "      <td>Vitex agnus-castus</td>\n",
       "      <td>Cedrus Deodara, Cedrus Atlantica, Magnolia Gra...</td>\n",
       "      <td>224</td>\n",
       "      <td>15Th St</td>\n",
       "      <td>Front</td>\n",
       "      <td>0-6</td>\n",
       "      <td>01-15</td>\n",
       "      <td>NaN</td>\n",
       "      <td>2014</td>\n",
       "      <td>34.038946</td>\n",
       "      <td>-118.501398</td>\n",
       "      <td>(34.0389457167, -118.501397562)</td>\n",
       "    </tr>\n",
       "  </tbody>\n",
       "</table>\n",
       "</div>"
      ],
      "text/plain": [
       "       Common Name      Botanical Name  \\\n",
       "28228  Chaste Tree  Vitex agnus-castus   \n",
       "\n",
       "                                     Replacement Species  Street Number  \\\n",
       "28228  Cedrus Deodara, Cedrus Atlantica, Magnolia Gra...            224   \n",
       "\n",
       "      Street Name   Side Diameter In Inches Height In Feet Date Last Pruned  \\\n",
       "28228     15Th St  Front                0-6          01-15              NaN   \n",
       "\n",
       "       Target Year (Fiscal Year)   Latitude   Longitude  \\\n",
       "28228                       2014  34.038946 -118.501398   \n",
       "\n",
       "                              Location  \n",
       "28228  (34.0389457167, -118.501397562)  "
      ]
     },
     "execution_count": 225,
     "metadata": {},
     "output_type": "execute_result"
    }
   ],
   "source": [
    "df.loc[df['Common Name'].str.contains('Chaste')]"
   ]
  },
  {
   "cell_type": "code",
   "execution_count": 226,
   "metadata": {},
   "outputs": [],
   "source": [
    "# consolidate common names\n",
    "#def common_name(name):\n",
    "#    if 'Gum' in name and 'Red' in name:\n",
    "#        return 'Red Flowering Gum'\n",
    "#    #elif \n",
    "#    else: return name"
   ]
  },
  {
   "cell_type": "code",
   "execution_count": 227,
   "metadata": {},
   "outputs": [],
   "source": [
    "#df['Common Name'] = df['Common Name'].apply(common_name)"
   ]
  },
  {
   "cell_type": "code",
   "execution_count": 228,
   "metadata": {},
   "outputs": [],
   "source": [
    "#df.loc[df['Common Name'].str.contains('Gum')]['Common Name'].value_counts()"
   ]
  },
  {
   "cell_type": "code",
   "execution_count": 229,
   "metadata": {},
   "outputs": [
    {
     "data": {
      "text/plain": [
       "263"
      ]
     },
     "execution_count": 229,
     "metadata": {},
     "output_type": "execute_result"
    }
   ],
   "source": [
    "# count of different common names\n",
    "len(df['Common Name'].value_counts())"
   ]
  },
  {
   "cell_type": "markdown",
   "metadata": {},
   "source": [
    "# Botanical Name"
   ]
  },
  {
   "cell_type": "code",
   "execution_count": 230,
   "metadata": {},
   "outputs": [
    {
     "data": {
      "text/plain": [
       "264"
      ]
     },
     "execution_count": 230,
     "metadata": {},
     "output_type": "execute_result"
    }
   ],
   "source": [
    "# count of different common names\n",
    "len(df['Botanical Name'].value_counts())"
   ]
  },
  {
   "cell_type": "code",
   "execution_count": 231,
   "metadata": {},
   "outputs": [],
   "source": [
    "# consolidate common names\n",
    "def botanical_name(name):\n",
    "    if name == 'Ulmus parvifolia \\'Drake\\'':\n",
    "        return 'Ulmus parvifolia'\n",
    "    elif name == 'Cedrus atlantica \\'Glauca\\'':\n",
    "        return 'Cedrus atlantica'\n",
    "    elif name == 'Cercis canadensis \\'Forest Pansy\\'':\n",
    "        return 'Cercis canadensis'\n",
    "    elif name == 'Eucalyptus leucoxylon \\'Rosea\\'':\n",
    "        return 'Eucalyptus leucoxylon'\n",
    "    elif name == 'Ficus microcarpa \\'Nitida\\'':\n",
    "        return 'Ficus microcarpa'\n",
    "    elif name == 'Fraxinus uhdei \\'Tomlinson\\'':\n",
    "        return 'Fraxinus uhdei'\n",
    "    elif name == 'Ginkgo biloba \\'Autumn Gold\\'':\n",
    "        return 'Ginkgo biloba'\n",
    "    elif name == 'Juniperus chinensis \\'Torulosa\\'':\n",
    "        return 'Juniperus chinensis'\n",
    "    elif name == 'Liquidambar styraciflua \\'Rotundiloba\\'':\n",
    "        return 'Liquidambar styraciflua'\n",
    "    elif name == 'Lophostemon confertus \\'Variegata\\'':\n",
    "        return 'Lophostemon confertus'\n",
    "    elif name == 'Magnolia grandiflora \\'Samuel Sommer\\'':\n",
    "        return 'Magnolia grandiflora'\n",
    "    elif name == 'Prunus cerasifera \\'Krater Vesuvius\\'':\n",
    "        return 'Prunus cerasifera'\n",
    "    #elif \n",
    "    else: return name"
   ]
  },
  {
   "cell_type": "code",
   "execution_count": 232,
   "metadata": {},
   "outputs": [],
   "source": [
    "df['Botanical Name'] = df['Botanical Name'].apply(botanical_name)"
   ]
  },
  {
   "cell_type": "code",
   "execution_count": 233,
   "metadata": {},
   "outputs": [
    {
     "data": {
      "text/plain": [
       "252"
      ]
     },
     "execution_count": 233,
     "metadata": {},
     "output_type": "execute_result"
    }
   ],
   "source": [
    "len(df['Botanical Name'].value_counts())"
   ]
  },
  {
   "cell_type": "code",
   "execution_count": null,
   "metadata": {},
   "outputs": [],
   "source": []
  },
  {
   "cell_type": "code",
   "execution_count": null,
   "metadata": {},
   "outputs": [],
   "source": []
  },
  {
   "cell_type": "code",
   "execution_count": null,
   "metadata": {},
   "outputs": [],
   "source": []
  },
  {
   "cell_type": "markdown",
   "metadata": {},
   "source": [
    "# Export Cleaned CSV"
   ]
  },
  {
   "cell_type": "code",
   "execution_count": 234,
   "metadata": {},
   "outputs": [],
   "source": [
    "# export df as csv\n",
    "df.to_csv('Cleaned_Trees.csv')"
   ]
  },
  {
   "cell_type": "code",
   "execution_count": null,
   "metadata": {},
   "outputs": [],
   "source": []
  }
 ],
 "metadata": {
  "kernelspec": {
   "display_name": "Python 3",
   "language": "python",
   "name": "python3"
  },
  "language_info": {
   "codemirror_mode": {
    "name": "ipython",
    "version": 3
   },
   "file_extension": ".py",
   "mimetype": "text/x-python",
   "name": "python",
   "nbconvert_exporter": "python",
   "pygments_lexer": "ipython3",
   "version": "3.6.4"
  }
 },
 "nbformat": 4,
 "nbformat_minor": 2
}
